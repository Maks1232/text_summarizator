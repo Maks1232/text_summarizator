{
 "cells": [
  {
   "cell_type": "code",
   "execution_count": 1,
   "id": "870a0621-979d-490d-95ab-a8786fe50aa7",
   "metadata": {},
   "outputs": [],
   "source": [
    "import spacy\n",
    "from spacy.lang.en.stop_words import STOP_WORDS\n",
    "from string import punctuation"
   ]
  },
  {
   "cell_type": "code",
   "execution_count": 2,
   "id": "485be051-b6cf-413f-9cbb-b3993585eb89",
   "metadata": {
    "scrolled": true
   },
   "outputs": [],
   "source": [
    "# List of stop words that have to be removed preparation\n",
    "stopwords = list(STOP_WORDS)"
   ]
  },
  {
   "cell_type": "code",
   "execution_count": 3,
   "id": "18b4f26d-2114-4e2e-be5e-bf5d72bdc6e7",
   "metadata": {},
   "outputs": [],
   "source": [
    "nlp = spacy.load('en_core_web_sm')"
   ]
  },
  {
   "cell_type": "code",
   "execution_count": 4,
   "id": "40d60716-664c-412b-823f-7c4e5e6bdd66",
   "metadata": {},
   "outputs": [],
   "source": [
    "# Text to be summarized\n",
    "\n",
    "# text = \"\"\" George Town is the capital of the Malaysian state of Penang, encompassing Penang Island and surrounding islets. \n",
    "# With a population of 794,313 as of the 2020 census, it is the core city of Malaysia's second-largest metropolitan area, which has a population of 2.84 million. \n",
    "# George Town serves as the commercial centre for northern Malaysia. Its technological sector, anchored by hundreds of multinational companies, \n",
    "# has made the city the top exporter in the country. It was the first British settlement in Southeast Asia, and its proximity to maritime routes \n",
    "# along the Strait of Malacca attracted an influx of immigrants from various parts of Asia. In 1974, the city was merged with the rest of the island, \n",
    "# throwing its administrative status into doubt until 2015, when its jurisdiction was reinstated and expanded to cover the entire island and adjacent islets.\"\"\"\n",
    "\n",
    "text = \"\"\" Gabriela worked for a multinational company as a successful project manager in Brazil and was transferred to manage a team in Sweden. She was excited about her new role but soon realised that managing her new team would be a challenge.\n",
    "\n",
    "Despite their friendliness, Gabriela didn't feel respected as a leader. Her new staff would question her proposals openly in meetings, and when she gave them instructions on how to carry out a task, they would often go about it in their own way without checking with her. When she announced her decisions on the project, they would continue giving their opinions as if it was still up for discussion.\n",
    "\n",
    "After weeks of frustration, Gabriela emailed her Swedish manager about the issues she was facing with her team. Her manager simply asked her if she felt her team was still performing, and what she thought would help her better collaborate with her team members. Gabriela found her manager vague and didn't feel as if he was managing the situation satisfactorily.\n",
    "\n",
    "What Gabriela was experiencing was a cultural clash in expectations. She was used to a more hierarchical framework where the team leader and manager took control and gave specific instructions on how things were to be done. This more directive management style worked well for her and her team in Brazil but did not transfer well to her new team in Sweden, who were more used to a flatter hierarchy where decision making was more democratic. When Gabriela took the issue to her Swedish manager, rather than stepping in with directions about what to do, her manager took on the role of coach and focused on getting her to come up with her own solutions instead.\n",
    "\n",
    "Dutch social psychologist Geert Hofstede uses the concept of 'power distance' to describe how power is distributed and how hierarchy is perceived in different cultures. In her previous work environment, Gabriela was used to a high power distance culture where power and authority are respected and everyone has their rightful place. In such a culture, leaders make the big decisions and are not often challenged. Her Swedish team, however, were used to working in a low power distance culture where subordinates often work together with their bosses to find solutions and make decisions. Here, leaders act as coaches or mentors who encourage independent thought and expect to be challenged.\n",
    "\n",
    "When Gabriela became aware of the cultural differences between her and her team, she took the initiative to have an open conversation with them about their feelings about her leadership. Pleased to be asked for their thoughts, Gabriela's team openly expressed that they were not used to being told what to do. They enjoyed having more room for initiative and creative freedom. When she told her team exactly what she needed them to do, they felt that she didn't trust them to do their job well. They realised that Gabriela was taking it personally when they tried to challenge or make changes to her decisions, and were able to explain that it was how they'd always worked.\n",
    "\n",
    "With a better understanding of the underlying reasons behind each other's behaviour, Gabriela and her team were able to adapt their way of working. Gabriela was then able to make adjustments to her management style so as to better fit the expectations of her team and more effectively motivate her team to achieve their goals.\"\"\""
   ]
  },
  {
   "cell_type": "code",
   "execution_count": 5,
   "id": "44ffeaa4-5b20-4df6-b0e5-a2fa176c72cf",
   "metadata": {},
   "outputs": [],
   "source": [
    "# Tokenized text below\n",
    "doc = nlp(text)"
   ]
  },
  {
   "cell_type": "code",
   "execution_count": 6,
   "id": "a93d469d-44e0-4547-bc40-965178044eea",
   "metadata": {},
   "outputs": [
    {
     "name": "stdout",
     "output_type": "stream",
     "text": [
      "[' ', 'Gabriela', 'worked', 'for', 'a', 'multinational', 'company', 'as', 'a', 'successful', 'project', 'manager', 'in', 'Brazil', 'and', 'was', 'transferred', 'to', 'manage', 'a', 'team', 'in', 'Sweden', '.', 'She', 'was', 'excited', 'about', 'her', 'new', 'role', 'but', 'soon', 'realised', 'that', 'managing', 'her', 'new', 'team', 'would', 'be', 'a', 'challenge', '.', '\\n\\n', 'Despite', 'their', 'friendliness', ',', 'Gabriela', 'did', \"n't\", 'feel', 'respected', 'as', 'a', 'leader', '.', 'Her', 'new', 'staff', 'would', 'question', 'her', 'proposals', 'openly', 'in', 'meetings', ',', 'and', 'when', 'she', 'gave', 'them', 'instructions', 'on', 'how', 'to', 'carry', 'out', 'a', 'task', ',', 'they', 'would', 'often', 'go', 'about', 'it', 'in', 'their', 'own', 'way', 'without', 'checking', 'with', 'her', '.', 'When', 'she', 'announced', 'her', 'decisions', 'on', 'the', 'project', ',', 'they', 'would', 'continue', 'giving', 'their', 'opinions', 'as', 'if', 'it', 'was', 'still', 'up', 'for', 'discussion', '.', '\\n\\n', 'After', 'weeks', 'of', 'frustration', ',', 'Gabriela', 'emailed', 'her', 'Swedish', 'manager', 'about', 'the', 'issues', 'she', 'was', 'facing', 'with', 'her', 'team', '.', 'Her', 'manager', 'simply', 'asked', 'her', 'if', 'she', 'felt', 'her', 'team', 'was', 'still', 'performing', ',', 'and', 'what', 'she', 'thought', 'would', 'help', 'her', 'better', 'collaborate', 'with', 'her', 'team', 'members', '.', 'Gabriela', 'found', 'her', 'manager', 'vague', 'and', 'did', \"n't\", 'feel', 'as', 'if', 'he', 'was', 'managing', 'the', 'situation', 'satisfactorily', '.', '\\n\\n', 'What', 'Gabriela', 'was', 'experiencing', 'was', 'a', 'cultural', 'clash', 'in', 'expectations', '.', 'She', 'was', 'used', 'to', 'a', 'more', 'hierarchical', 'framework', 'where', 'the', 'team', 'leader', 'and', 'manager', 'took', 'control', 'and', 'gave', 'specific', 'instructions', 'on', 'how', 'things', 'were', 'to', 'be', 'done', '.', 'This', 'more', 'directive', 'management', 'style', 'worked', 'well', 'for', 'her', 'and', 'her', 'team', 'in', 'Brazil', 'but', 'did', 'not', 'transfer', 'well', 'to', 'her', 'new', 'team', 'in', 'Sweden', ',', 'who', 'were', 'more', 'used', 'to', 'a', 'flatter', 'hierarchy', 'where', 'decision', 'making', 'was', 'more', 'democratic', '.', 'When', 'Gabriela', 'took', 'the', 'issue', 'to', 'her', 'Swedish', 'manager', ',', 'rather', 'than', 'stepping', 'in', 'with', 'directions', 'about', 'what', 'to', 'do', ',', 'her', 'manager', 'took', 'on', 'the', 'role', 'of', 'coach', 'and', 'focused', 'on', 'getting', 'her', 'to', 'come', 'up', 'with', 'her', 'own', 'solutions', 'instead', '.', '\\n\\n', 'Dutch', 'social', 'psychologist', 'Geert', 'Hofstede', 'uses', 'the', 'concept', 'of', \"'\", 'power', 'distance', \"'\", 'to', 'describe', 'how', 'power', 'is', 'distributed', 'and', 'how', 'hierarchy', 'is', 'perceived', 'in', 'different', 'cultures', '.', 'In', 'her', 'previous', 'work', 'environment', ',', 'Gabriela', 'was', 'used', 'to', 'a', 'high', 'power', 'distance', 'culture', 'where', 'power', 'and', 'authority', 'are', 'respected', 'and', 'everyone', 'has', 'their', 'rightful', 'place', '.', 'In', 'such', 'a', 'culture', ',', 'leaders', 'make', 'the', 'big', 'decisions', 'and', 'are', 'not', 'often', 'challenged', '.', 'Her', 'Swedish', 'team', ',', 'however', ',', 'were', 'used', 'to', 'working', 'in', 'a', 'low', 'power', 'distance', 'culture', 'where', 'subordinates', 'often', 'work', 'together', 'with', 'their', 'bosses', 'to', 'find', 'solutions', 'and', 'make', 'decisions', '.', 'Here', ',', 'leaders', 'act', 'as', 'coaches', 'or', 'mentors', 'who', 'encourage', 'independent', 'thought', 'and', 'expect', 'to', 'be', 'challenged', '.', '\\n\\n', 'When', 'Gabriela', 'became', 'aware', 'of', 'the', 'cultural', 'differences', 'between', 'her', 'and', 'her', 'team', ',', 'she', 'took', 'the', 'initiative', 'to', 'have', 'an', 'open', 'conversation', 'with', 'them', 'about', 'their', 'feelings', 'about', 'her', 'leadership', '.', 'Pleased', 'to', 'be', 'asked', 'for', 'their', 'thoughts', ',', 'Gabriela', \"'s\", 'team', 'openly', 'expressed', 'that', 'they', 'were', 'not', 'used', 'to', 'being', 'told', 'what', 'to', 'do', '.', 'They', 'enjoyed', 'having', 'more', 'room', 'for', 'initiative', 'and', 'creative', 'freedom', '.', 'When', 'she', 'told', 'her', 'team', 'exactly', 'what', 'she', 'needed', 'them', 'to', 'do', ',', 'they', 'felt', 'that', 'she', 'did', \"n't\", 'trust', 'them', 'to', 'do', 'their', 'job', 'well', '.', 'They', 'realised', 'that', 'Gabriela', 'was', 'taking', 'it', 'personally', 'when', 'they', 'tried', 'to', 'challenge', 'or', 'make', 'changes', 'to', 'her', 'decisions', ',', 'and', 'were', 'able', 'to', 'explain', 'that', 'it', 'was', 'how', 'they', \"'d\", 'always', 'worked', '.', '\\n\\n', 'With', 'a', 'better', 'understanding', 'of', 'the', 'underlying', 'reasons', 'behind', 'each', 'other', \"'s\", 'behaviour', ',', 'Gabriela', 'and', 'her', 'team', 'were', 'able', 'to', 'adapt', 'their', 'way', 'of', 'working', '.', 'Gabriela', 'was', 'then', 'able', 'to', 'make', 'adjustments', 'to', 'her', 'management', 'style', 'so', 'as', 'to', 'better', 'fit', 'the', 'expectations', 'of', 'her', 'team', 'and', 'more', 'effectively', 'motivate', 'her', 'team', 'to', 'achieve', 'their', 'goals', '.']\n"
     ]
    }
   ],
   "source": [
    "# Tokens printing\n",
    "tokens = [token.text for token in doc]\n",
    "print(tokens)"
   ]
  },
  {
   "cell_type": "code",
   "execution_count": 7,
   "id": "64ea7690-37a2-4280-894d-9d04afd29fa1",
   "metadata": {
    "scrolled": true
   },
   "outputs": [
    {
     "name": "stdout",
     "output_type": "stream",
     "text": [
      "!\"#$%&'()*+,-./:;<=>?@[\\]^_`{|}~\n",
      "\n"
     ]
    }
   ],
   "source": [
    "punctuation = punctuation + '\\n'\n",
    "print(punctuation)"
   ]
  },
  {
   "cell_type": "code",
   "execution_count": 8,
   "id": "6f42baf4-fc59-4f25-bf5c-04fe6907cd8e",
   "metadata": {},
   "outputs": [],
   "source": [
    "word_frequencies = {}\n",
    "for word in doc:\n",
    "    if word.text.lower() not in stopwords:\n",
    "        if word.text.lower() not in punctuation:\n",
    "            if word.text.lower() not in word_frequencies.keys():\n",
    "                word_frequencies[word.text] = 1\n",
    "            else:\n",
    "                word_frequencies[word.text] += 1"
   ]
  },
  {
   "cell_type": "code",
   "execution_count": 9,
   "id": "71b1530a-1011-4c52-84b9-09bec0ca8f25",
   "metadata": {},
   "outputs": [
    {
     "name": "stdout",
     "output_type": "stream",
     "text": [
      "{' ': 1, 'Gabriela': 1, 'worked': 3, 'multinational': 1, 'company': 1, 'successful': 1, 'project': 2, 'manager': 7, 'Brazil': 1, 'transferred': 1, 'manage': 1, 'team': 15, 'Sweden': 1, 'excited': 1, 'new': 4, 'role': 2, 'soon': 1, 'realised': 2, 'managing': 2, 'challenge': 2, '\\n\\n': 6, 'Despite': 1, 'friendliness': 1, 'feel': 2, 'respected': 2, 'leader': 2, 'staff': 1, 'question': 1, 'proposals': 1, 'openly': 2, 'meetings': 1, 'gave': 2, 'instructions': 2, 'carry': 1, 'task': 1, 'way': 2, 'checking': 1, 'announced': 1, 'decisions': 4, 'continue': 1, 'giving': 1, 'opinions': 1, 'discussion': 1, 'weeks': 1, 'frustration': 1, 'emailed': 1, 'Swedish': 1, 'issues': 1, 'facing': 1, 'simply': 1, 'asked': 2, 'felt': 2, 'performing': 1, 'thought': 2, 'help': 1, 'better': 3, 'collaborate': 1, 'members': 1, 'found': 1, 'vague': 1, 'situation': 1, 'satisfactorily': 1, 'experiencing': 1, 'cultural': 2, 'clash': 1, 'expectations': 2, 'hierarchical': 1, 'framework': 1, 'took': 4, 'control': 1, 'specific': 1, 'things': 1, 'directive': 1, 'management': 2, 'style': 2, 'transfer': 1, 'flatter': 1, 'hierarchy': 2, 'decision': 1, 'making': 1, 'democratic': 1, 'issue': 1, 'stepping': 1, 'directions': 1, 'coach': 1, 'focused': 1, 'getting': 1, 'come': 1, 'solutions': 2, 'instead': 1, 'Dutch': 1, 'social': 1, 'psychologist': 1, 'Geert': 1, 'Hofstede': 1, 'uses': 1, 'concept': 1, 'power': 5, 'distance': 3, 'describe': 1, 'distributed': 1, 'perceived': 1, 'different': 1, 'cultures': 1, 'previous': 1, 'work': 2, 'environment': 1, 'high': 1, 'culture': 3, 'authority': 1, 'rightful': 1, 'place': 1, 'leaders': 2, 'big': 1, 'challenged': 2, 'working': 2, 'low': 1, 'subordinates': 1, 'bosses': 1, 'find': 1, 'act': 1, 'coaches': 1, 'mentors': 1, 'encourage': 1, 'independent': 1, 'expect': 1, 'aware': 1, 'differences': 1, 'initiative': 2, 'open': 1, 'conversation': 1, 'feelings': 1, 'leadership': 1, 'Pleased': 1, 'thoughts': 1, 'expressed': 1, 'told': 2, 'enjoyed': 1, 'having': 1, 'room': 1, 'creative': 1, 'freedom': 1, 'exactly': 1, 'needed': 1, 'trust': 1, 'job': 1, 'taking': 1, 'personally': 1, 'tried': 1, 'changes': 1, 'able': 3, 'explain': 1, 'understanding': 1, 'underlying': 1, 'reasons': 1, 'behaviour': 1, 'adapt': 1, 'adjustments': 1, 'fit': 1, 'effectively': 1, 'motivate': 1, 'achieve': 1, 'goals': 1}\n"
     ]
    }
   ],
   "source": [
    "print(word_frequencies)"
   ]
  },
  {
   "cell_type": "code",
   "execution_count": 10,
   "id": "e75fc054-9832-4b2a-93d2-3ee03a828e6f",
   "metadata": {},
   "outputs": [],
   "source": [
    "max_frequency = max(word_frequencies.values())"
   ]
  },
  {
   "cell_type": "code",
   "execution_count": 11,
   "id": "18a2cb3c-21ad-4683-a249-a9bdfcc8dd0f",
   "metadata": {},
   "outputs": [
    {
     "name": "stdout",
     "output_type": "stream",
     "text": [
      "15\n"
     ]
    }
   ],
   "source": [
    "print(max_frequency)"
   ]
  },
  {
   "cell_type": "code",
   "execution_count": 12,
   "id": "907af25b-69fd-4ff0-b3c5-53cd421eb5df",
   "metadata": {},
   "outputs": [],
   "source": [
    "for word in word_frequencies.keys():\n",
    "    word_frequencies[word] = word_frequencies[word]/max_frequency"
   ]
  },
  {
   "cell_type": "code",
   "execution_count": 13,
   "id": "e9dd9bd5-3cb2-4043-a0f8-1f3a5b535a78",
   "metadata": {},
   "outputs": [
    {
     "name": "stdout",
     "output_type": "stream",
     "text": [
      "{' ': 0.06666666666666667, 'Gabriela': 0.06666666666666667, 'worked': 0.2, 'multinational': 0.06666666666666667, 'company': 0.06666666666666667, 'successful': 0.06666666666666667, 'project': 0.13333333333333333, 'manager': 0.4666666666666667, 'Brazil': 0.06666666666666667, 'transferred': 0.06666666666666667, 'manage': 0.06666666666666667, 'team': 1.0, 'Sweden': 0.06666666666666667, 'excited': 0.06666666666666667, 'new': 0.26666666666666666, 'role': 0.13333333333333333, 'soon': 0.06666666666666667, 'realised': 0.13333333333333333, 'managing': 0.13333333333333333, 'challenge': 0.13333333333333333, '\\n\\n': 0.4, 'Despite': 0.06666666666666667, 'friendliness': 0.06666666666666667, 'feel': 0.13333333333333333, 'respected': 0.13333333333333333, 'leader': 0.13333333333333333, 'staff': 0.06666666666666667, 'question': 0.06666666666666667, 'proposals': 0.06666666666666667, 'openly': 0.13333333333333333, 'meetings': 0.06666666666666667, 'gave': 0.13333333333333333, 'instructions': 0.13333333333333333, 'carry': 0.06666666666666667, 'task': 0.06666666666666667, 'way': 0.13333333333333333, 'checking': 0.06666666666666667, 'announced': 0.06666666666666667, 'decisions': 0.26666666666666666, 'continue': 0.06666666666666667, 'giving': 0.06666666666666667, 'opinions': 0.06666666666666667, 'discussion': 0.06666666666666667, 'weeks': 0.06666666666666667, 'frustration': 0.06666666666666667, 'emailed': 0.06666666666666667, 'Swedish': 0.06666666666666667, 'issues': 0.06666666666666667, 'facing': 0.06666666666666667, 'simply': 0.06666666666666667, 'asked': 0.13333333333333333, 'felt': 0.13333333333333333, 'performing': 0.06666666666666667, 'thought': 0.13333333333333333, 'help': 0.06666666666666667, 'better': 0.2, 'collaborate': 0.06666666666666667, 'members': 0.06666666666666667, 'found': 0.06666666666666667, 'vague': 0.06666666666666667, 'situation': 0.06666666666666667, 'satisfactorily': 0.06666666666666667, 'experiencing': 0.06666666666666667, 'cultural': 0.13333333333333333, 'clash': 0.06666666666666667, 'expectations': 0.13333333333333333, 'hierarchical': 0.06666666666666667, 'framework': 0.06666666666666667, 'took': 0.26666666666666666, 'control': 0.06666666666666667, 'specific': 0.06666666666666667, 'things': 0.06666666666666667, 'directive': 0.06666666666666667, 'management': 0.13333333333333333, 'style': 0.13333333333333333, 'transfer': 0.06666666666666667, 'flatter': 0.06666666666666667, 'hierarchy': 0.13333333333333333, 'decision': 0.06666666666666667, 'making': 0.06666666666666667, 'democratic': 0.06666666666666667, 'issue': 0.06666666666666667, 'stepping': 0.06666666666666667, 'directions': 0.06666666666666667, 'coach': 0.06666666666666667, 'focused': 0.06666666666666667, 'getting': 0.06666666666666667, 'come': 0.06666666666666667, 'solutions': 0.13333333333333333, 'instead': 0.06666666666666667, 'Dutch': 0.06666666666666667, 'social': 0.06666666666666667, 'psychologist': 0.06666666666666667, 'Geert': 0.06666666666666667, 'Hofstede': 0.06666666666666667, 'uses': 0.06666666666666667, 'concept': 0.06666666666666667, 'power': 0.3333333333333333, 'distance': 0.2, 'describe': 0.06666666666666667, 'distributed': 0.06666666666666667, 'perceived': 0.06666666666666667, 'different': 0.06666666666666667, 'cultures': 0.06666666666666667, 'previous': 0.06666666666666667, 'work': 0.13333333333333333, 'environment': 0.06666666666666667, 'high': 0.06666666666666667, 'culture': 0.2, 'authority': 0.06666666666666667, 'rightful': 0.06666666666666667, 'place': 0.06666666666666667, 'leaders': 0.13333333333333333, 'big': 0.06666666666666667, 'challenged': 0.13333333333333333, 'working': 0.13333333333333333, 'low': 0.06666666666666667, 'subordinates': 0.06666666666666667, 'bosses': 0.06666666666666667, 'find': 0.06666666666666667, 'act': 0.06666666666666667, 'coaches': 0.06666666666666667, 'mentors': 0.06666666666666667, 'encourage': 0.06666666666666667, 'independent': 0.06666666666666667, 'expect': 0.06666666666666667, 'aware': 0.06666666666666667, 'differences': 0.06666666666666667, 'initiative': 0.13333333333333333, 'open': 0.06666666666666667, 'conversation': 0.06666666666666667, 'feelings': 0.06666666666666667, 'leadership': 0.06666666666666667, 'Pleased': 0.06666666666666667, 'thoughts': 0.06666666666666667, 'expressed': 0.06666666666666667, 'told': 0.13333333333333333, 'enjoyed': 0.06666666666666667, 'having': 0.06666666666666667, 'room': 0.06666666666666667, 'creative': 0.06666666666666667, 'freedom': 0.06666666666666667, 'exactly': 0.06666666666666667, 'needed': 0.06666666666666667, 'trust': 0.06666666666666667, 'job': 0.06666666666666667, 'taking': 0.06666666666666667, 'personally': 0.06666666666666667, 'tried': 0.06666666666666667, 'changes': 0.06666666666666667, 'able': 0.2, 'explain': 0.06666666666666667, 'understanding': 0.06666666666666667, 'underlying': 0.06666666666666667, 'reasons': 0.06666666666666667, 'behaviour': 0.06666666666666667, 'adapt': 0.06666666666666667, 'adjustments': 0.06666666666666667, 'fit': 0.06666666666666667, 'effectively': 0.06666666666666667, 'motivate': 0.06666666666666667, 'achieve': 0.06666666666666667, 'goals': 0.06666666666666667}\n"
     ]
    }
   ],
   "source": [
    "print(word_frequencies)"
   ]
  },
  {
   "cell_type": "code",
   "execution_count": 14,
   "id": "62bb642f-9aea-4a42-8516-fde8bfbf8331",
   "metadata": {
    "scrolled": true
   },
   "outputs": [
    {
     "name": "stdout",
     "output_type": "stream",
     "text": [
      " Gabriela worked for a multinational company as a successful project manager in Brazil and was transferred to manage a team in Sweden.\n",
      "\n",
      "\n",
      "She was excited about her new role but soon realised that managing her new team would be a challenge.\n",
      "\n",
      "\n",
      "\n",
      "\n",
      "Despite their friendliness, Gabriela didn't feel respected as a leader.\n",
      "\n",
      "\n",
      "Her new staff would question her proposals openly in meetings, and when she gave them instructions on how to carry out a task, they would often go about it in their own way without checking with her.\n",
      "\n",
      "\n",
      "When she announced her decisions on the project, they would continue giving their opinions as if it was still up for discussion.\n",
      "\n",
      "\n",
      "\n",
      "\n",
      "After weeks of frustration, Gabriela emailed her Swedish manager about the issues she was facing with her team.\n",
      "\n",
      "\n",
      "Her manager simply asked her if she felt her team was still performing, and what she thought would help her better collaborate with her team members.\n",
      "\n",
      "\n",
      "Gabriela found her manager vague and didn't feel as if he was managing the situation satisfactorily.\n",
      "\n",
      "\n",
      "\n",
      "\n",
      "What Gabriela was experiencing was a cultural clash in expectations.\n",
      "\n",
      "\n",
      "She was used to a more hierarchical framework where the team leader and manager took control and gave specific instructions on how things were to be done.\n",
      "\n",
      "\n",
      "This more directive management style worked well for her and her team in Brazil but did not transfer well to her new team in Sweden, who were more used to a flatter hierarchy where decision making was more democratic.\n",
      "\n",
      "\n",
      "When Gabriela took the issue to her Swedish manager, rather than stepping in with directions about what to do, her manager took on the role of coach and focused on getting her to come up with her own solutions instead.\n",
      "\n",
      "\n",
      "\n",
      "\n",
      "Dutch social psychologist Geert Hofstede uses the concept of 'power distance' to describe how power is distributed and how hierarchy is perceived in different cultures.\n",
      "\n",
      "\n",
      "In her previous work environment, Gabriela was used to a high power distance culture where power and authority are respected and everyone has their rightful place.\n",
      "\n",
      "\n",
      "In such a culture, leaders make the big decisions and are not often challenged.\n",
      "\n",
      "\n",
      "Her Swedish team, however, were used to working in a low power distance culture where subordinates often work together with their bosses to find solutions and make decisions.\n",
      "\n",
      "\n",
      "Here, leaders act as coaches or mentors who encourage independent thought and expect to be challenged.\n",
      "\n",
      "\n",
      "\n",
      "\n",
      "When Gabriela became aware of the cultural differences between her and her team, she took the initiative to have an open conversation with them about their feelings about her leadership.\n",
      "\n",
      "\n",
      "Pleased to be asked for their thoughts, Gabriela's team openly expressed that they were not used to being told what to do.\n",
      "\n",
      "\n",
      "They enjoyed having more room for initiative and creative freedom.\n",
      "\n",
      "\n",
      "When she told her team exactly what she needed them to do, they felt that she didn't trust them to do their job well.\n",
      "\n",
      "\n",
      "They realised that Gabriela was taking it personally when they tried to challenge or make changes to her decisions, and were able to explain that it was how they'd always worked.\n",
      "\n",
      "\n",
      "\n",
      "\n",
      "With a better understanding of the underlying reasons behind each other's behaviour, Gabriela and her team were able to adapt their way of working.\n",
      "\n",
      "\n",
      "Gabriela was then able to make adjustments to her management style so as to better fit the expectations of her team and more effectively motivate her team to achieve their goals.\n",
      "\n",
      "\n"
     ]
    }
   ],
   "source": [
    "# Sentence tokenization\n",
    "sentence_tokens = [sent for sent in doc.sents]\n",
    "\n",
    "for token in sentence_tokens:\n",
    "    print(str(token) + '\\n\\n')"
   ]
  },
  {
   "cell_type": "code",
   "execution_count": 15,
   "id": "6f782377-7b7e-433f-9afa-3057310a72fd",
   "metadata": {},
   "outputs": [],
   "source": [
    "sentence_scores = {}\n",
    "\n",
    "for sent in sentence_tokens:\n",
    "        for word in sent:\n",
    "            if word.text.lower() in word_frequencies.keys():\n",
    "                if sent not in sentence_scores.keys():\n",
    "                    sentence_scores[sent] = word_frequencies[word.text.lower()]\n",
    "                else:\n",
    "                    sentence_scores[sent] += word_frequencies[word.text.lower()]"
   ]
  },
  {
   "cell_type": "code",
   "execution_count": 16,
   "id": "3109ac20-119c-4274-8136-f2acbc7f6085",
   "metadata": {},
   "outputs": [
    {
     "name": "stdout",
     "output_type": "stream",
     "text": [
      " Gabriela worked for a multinational company as a successful project manager in Brazil and was transferred to manage a team in Sweden.\n",
      "2.2\n",
      "\n",
      "\n",
      "She was excited about her new role but soon realised that managing her new team would be a challenge.\n",
      "\n",
      "\n",
      "2.5999999999999996\n",
      "\n",
      "\n",
      "Despite their friendliness, Gabriela didn't feel respected as a leader.\n",
      "0.4666666666666667\n",
      "\n",
      "\n",
      "Her new staff would question her proposals openly in meetings, and when she gave them instructions on how to carry out a task, they would often go about it in their own way without checking with her.\n",
      "1.2666666666666666\n",
      "\n",
      "\n",
      "When she announced her decisions on the project, they would continue giving their opinions as if it was still up for discussion.\n",
      "\n",
      "\n",
      "1.1333333333333333\n",
      "\n",
      "\n",
      "After weeks of frustration, Gabriela emailed her Swedish manager about the issues she was facing with her team.\n",
      "1.8\n",
      "\n",
      "\n",
      "Her manager simply asked her if she felt her team was still performing, and what she thought would help her better collaborate with her team members.\n",
      "3.4000000000000004\n",
      "\n",
      "\n",
      "Gabriela found her manager vague and didn't feel as if he was managing the situation satisfactorily.\n",
      "\n",
      "\n",
      "1.4\n",
      "\n",
      "\n",
      "What Gabriela was experiencing was a cultural clash in expectations.\n",
      "0.4\n",
      "\n",
      "\n",
      "She was used to a more hierarchical framework where the team leader and manager took control and gave specific instructions on how things were to be done.\n",
      "2.4666666666666672\n",
      "\n",
      "\n",
      "This more directive management style worked well for her and her team in Brazil but did not transfer well to her new team in Sweden, who were more used to a flatter hierarchy where decision making was more democratic.\n",
      "3.2666666666666675\n",
      "\n",
      "\n",
      "When Gabriela took the issue to her Swedish manager, rather than stepping in with directions about what to do, her manager took on the role of coach and focused on getting her to come up with her own solutions instead.\n",
      "\n",
      "\n",
      "2.6666666666666665\n",
      "\n",
      "\n",
      "Dutch social psychologist Geert Hofstede uses the concept of 'power distance' to describe how power is distributed and how hierarchy is perceived in different cultures.\n",
      "1.5999999999999999\n",
      "\n",
      "\n",
      "In her previous work environment, Gabriela was used to a high power distance culture where power and authority are respected and everyone has their rightful place.\n",
      "1.7333333333333332\n",
      "\n",
      "\n",
      "In such a culture, leaders make the big decisions and are not often challenged.\n",
      "0.8\n",
      "\n",
      "\n",
      "Her Swedish team, however, were used to working in a low power distance culture where subordinates often work together with their bosses to find solutions and make decisions.\n",
      "2.666666666666667\n",
      "\n",
      "\n",
      "Here, leaders act as coaches or mentors who encourage independent thought and expect to be challenged.\n",
      "\n",
      "\n",
      "1.2\n",
      "\n",
      "\n",
      "When Gabriela became aware of the cultural differences between her and her team, she took the initiative to have an open conversation with them about their feelings about her leadership.\n",
      "1.9333333333333331\n",
      "\n",
      "\n",
      "Pleased to be asked for their thoughts, Gabriela's team openly expressed that they were not used to being told what to do.\n",
      "1.5333333333333332\n",
      "\n",
      "\n",
      "They enjoyed having more room for initiative and creative freedom.\n",
      "0.4666666666666667\n",
      "\n",
      "\n",
      "When she told her team exactly what she needed them to do, they felt that she didn't trust them to do their job well.\n",
      "1.5333333333333332\n",
      "\n",
      "\n",
      "They realised that Gabriela was taking it personally when they tried to challenge or make changes to her decisions, and were able to explain that it was how they'd always worked.\n",
      "\n",
      "\n",
      "1.6666666666666665\n",
      "\n",
      "\n",
      "With a better understanding of the underlying reasons behind each other's behaviour, Gabriela and her team were able to adapt their way of working.\n",
      "1.9999999999999998\n",
      "\n",
      "\n",
      "Gabriela was then able to make adjustments to her management style so as to better fit the expectations of her team and more effectively motivate her team to achieve their goals.\n",
      "3.2000000000000006\n",
      "\n",
      "\n"
     ]
    }
   ],
   "source": [
    "for token in sentence_scores:\n",
    "    print(str(token) + '\\n' + str(sentence_scores[token]) + '\\n\\n')"
   ]
  },
  {
   "cell_type": "code",
   "execution_count": 17,
   "id": "3ae6444e-9bd2-48e0-8b84-0f8cb9a9c903",
   "metadata": {},
   "outputs": [],
   "source": [
    "from heapq import nlargest"
   ]
  },
  {
   "cell_type": "code",
   "execution_count": 18,
   "id": "ccd2098e-50ea-4c0b-be30-4ad986f53080",
   "metadata": {},
   "outputs": [
    {
     "data": {
      "text/plain": [
       "7"
      ]
     },
     "execution_count": 18,
     "metadata": {},
     "output_type": "execute_result"
    }
   ],
   "source": [
    "select_length = int(len(sentence_tokens)*0.3)\n",
    "select_length"
   ]
  },
  {
   "cell_type": "code",
   "execution_count": 19,
   "id": "4ad28785-5983-444f-b540-8aaf6c6874f1",
   "metadata": {},
   "outputs": [],
   "source": [
    "summary = nlargest(select_length, sentence_scores, key = sentence_scores.get)"
   ]
  },
  {
   "cell_type": "code",
   "execution_count": 20,
   "id": "6651acdf-4ddd-48a7-8bc4-9db4526d5263",
   "metadata": {},
   "outputs": [
    {
     "name": "stdout",
     "output_type": "stream",
     "text": [
      "[Her manager simply asked her if she felt her team was still performing, and what she thought would help her better collaborate with her team members., This more directive management style worked well for her and her team in Brazil but did not transfer well to her new team in Sweden, who were more used to a flatter hierarchy where decision making was more democratic., Gabriela was then able to make adjustments to her management style so as to better fit the expectations of her team and more effectively motivate her team to achieve their goals., Her Swedish team, however, were used to working in a low power distance culture where subordinates often work together with their bosses to find solutions and make decisions., When Gabriela took the issue to her Swedish manager, rather than stepping in with directions about what to do, her manager took on the role of coach and focused on getting her to come up with her own solutions instead.\n",
      "\n",
      ", She was excited about her new role but soon realised that managing her new team would be a challenge.\n",
      "\n",
      ", She was used to a more hierarchical framework where the team leader and manager took control and gave specific instructions on how things were to be done.]\n"
     ]
    }
   ],
   "source": [
    "print(summary)"
   ]
  }
 ],
 "metadata": {
  "kernelspec": {
   "display_name": "Python 3 (ipykernel)",
   "language": "python",
   "name": "python3"
  },
  "language_info": {
   "codemirror_mode": {
    "name": "ipython",
    "version": 3
   },
   "file_extension": ".py",
   "mimetype": "text/x-python",
   "name": "python",
   "nbconvert_exporter": "python",
   "pygments_lexer": "ipython3",
   "version": "3.11.0"
  }
 },
 "nbformat": 4,
 "nbformat_minor": 5
}
